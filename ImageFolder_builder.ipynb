{
 "cells": [
  {
   "cell_type": "code",
   "execution_count": 2,
   "metadata": {},
   "outputs": [],
   "source": [
    "import os\n",
    "import shutil\n",
    "\n",
    "# Define the directory where the images are currently stored and the target directory\n",
    "current_dir = './data/images/images/'  # Replace with the path to where the images are\n",
    "target_dir = './data/Oxford Pet/'   # Replace with the path where you want the new structure\n"
   ]
  },
  {
   "cell_type": "code",
   "execution_count": 3,
   "metadata": {},
   "outputs": [
    {
     "name": "stdout",
     "output_type": "stream",
     "text": [
      "Images are now organized into class directories.\n"
     ]
    }
   ],
   "source": [
    "# Create the target directory if it does not exist\n",
    "os.makedirs(target_dir, exist_ok=True)\n",
    "\n",
    "# List all image files in the current directory\n",
    "files = [f for f in os.listdir(current_dir) if os.path.isfile(os.path.join(current_dir, f))]\n",
    "\n",
    "# Loop over all files and move them into class-named directories\n",
    "for filename in files:\n",
    "    # Assume class name is the part before the first underscore '_'\n",
    "    class_name = filename.split('_')[0]\n",
    "    # Create a directory for the class if it does not exist\n",
    "    class_dir = os.path.join(target_dir, class_name)\n",
    "    os.makedirs(class_dir, exist_ok=True)\n",
    "    # Move the file\n",
    "    shutil.move(os.path.join(current_dir, filename), os.path.join(class_dir, filename))\n",
    "\n",
    "print(\"Images are now organized into class directories.\")"
   ]
  }
 ],
 "metadata": {
  "kernelspec": {
   "display_name": "base",
   "language": "python",
   "name": "python3"
  },
  "language_info": {
   "codemirror_mode": {
    "name": "ipython",
    "version": 3
   },
   "file_extension": ".py",
   "mimetype": "text/x-python",
   "name": "python",
   "nbconvert_exporter": "python",
   "pygments_lexer": "ipython3",
   "version": "3.11.5"
  }
 },
 "nbformat": 4,
 "nbformat_minor": 2
}
