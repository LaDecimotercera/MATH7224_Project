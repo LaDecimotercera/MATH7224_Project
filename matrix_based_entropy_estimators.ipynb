{
 "cells": [
  {
   "cell_type": "code",
   "execution_count": 126,
   "metadata": {},
   "outputs": [],
   "source": [
    "import torch\n",
    "import random\n",
    "import torch.nn as nn\n",
    "import torch.optim as optim\n",
    "import torchvision\n",
    "import torchvision.transforms as transforms\n",
    "import torchvision.models as models\n",
    "import matplotlib.pyplot as plt\n",
    "import importnb\n",
    "import numpy as np"
   ]
  },
  {
   "cell_type": "code",
   "execution_count": 2,
   "metadata": {},
   "outputs": [],
   "source": [
    "device = torch.device(\"cuda\" if torch.cuda.is_available() else \"cpu\")"
   ]
  },
  {
   "cell_type": "code",
   "execution_count": 185,
   "metadata": {},
   "outputs": [],
   "source": [
    "class IT_calculator():\n",
    "    def __init__(self):\n",
    "        self.alpha = 1.01\n",
    "\n",
    "    def kernel(self, x, y, sigma=0.1):\n",
    "        res = np.exp(-np.linalg.norm(x-y)**2/(2*sigma**2))\n",
    "        return res\n",
    "\n",
    "    def Corr(self, X):\n",
    "        n = X.shape[0]  # n is the number of data\n",
    "        A = torch.zeros([n,n]).to(device)\n",
    "        d = X[0].numel()\n",
    "        sigma = 5 * n ** (-1/(4+d))                 \n",
    "        # sigma = 5 *d* n ** (-1/(4+d))             # Silverman's rule of Thumb  \n",
    "        model = nn.DataParallel(nn.Module())\n",
    "        for i in range(n):\n",
    "            for j in range(n):\n",
    "                A[i][j] = self.kernel(X[i], X[j], sigma)\n",
    "\n",
    "        # Normalization\n",
    "        D = A.diag()\n",
    "        for i in range(n):\n",
    "            for j in range(n):\n",
    "                A[i][j] = 1/n * A[i][j] / torch.sqrt((D[i]*D[j]))\n",
    "        return A\n",
    "\n",
    "    def Entropy(self, X):\n",
    "        eigvals = torch.linalg.eigvalsh(self.Corr(X))\n",
    "        eigvals = torch.pow(torch.abs(eigvals), self.alpha)\n",
    "        res = 1/(1 - self.alpha)*torch.log(eigvals.sum())/np.log(2)\n",
    "        return res\n",
    "    \n",
    "    def JointE(self, X, Y):\n",
    "        _ = torch.mul(self.Corr(X), self.Corr(Y))\n",
    "        tr = torch.trace(_).item()**3\n",
    "        # tr = torch.trace(_).item()\n",
    "        _ = _/tr\n",
    "        res = self.Entropy(_)\n",
    "        return res\n",
    "\n",
    "    def MI(self, X, Y):\n",
    "        res = self.Entropy(X) + self.Entropy(Y) - self.JointE(X,Y)\n",
    "        return res\n",
    "\n"
   ]
  },
  {
   "cell_type": "code",
   "execution_count": 144,
   "metadata": {},
   "outputs": [],
   "source": [
    "# class SimpleCNN(nn.Module):\n",
    "#     \"Build a simple 3 layer CNN model\"\n",
    "#     def __init__(self):\n",
    "#         super(SimpleCNN, self).__init__()\n",
    "#         self.conv1 = nn.Conv2d(1, 16, kernel_size=3, stride=1, padding=1)\n",
    "#         self.relu1 = nn.ReLU()\n",
    "#         self.pool1 = nn.MaxPool2d(kernel_size=2, stride=2)\n",
    "#         self.conv2 = nn.Conv2d(16, 32, kernel_size=3, stride=1, padding=1)\n",
    "#         self.relu2 = nn.ReLU()\n",
    "#         self.pool2 = nn.MaxPool2d(kernel_size=2, stride=2)\n",
    "#         self.fc1 = nn.Linear(7 * 7 * 32, 64)\n",
    "#         self.relu3 = nn.ReLU()\n",
    "#         self.fc2 = nn.Linear(64, 10)\n",
    "\n",
    "#     def forward(self, x):\n",
    "#         x = self.conv1(x)\n",
    "#         x = self.relu1(x)\n",
    "#         x = self.pool1(x)\n",
    "#         x = self.conv2(x)\n",
    "#         x = self.relu2(x)\n",
    "#         x = self.pool2(x)\n",
    "#         x = x.view(x.size(0), -1)\n",
    "#         x = self.fc1(x)\n",
    "#         x = self.relu3(x)\n",
    "#         x = self.fc2(x)\n",
    "#         return x"
   ]
  },
  {
   "cell_type": "code",
   "execution_count": 145,
   "metadata": {},
   "outputs": [],
   "source": [
    "# model = SimpleCNN()\n",
    "# model.load_state_dict(torch.load('SimpleCNN.pth'))\n",
    "\n",
    "# transform = transforms.Compose([\n",
    "#     transforms.ToTensor(),\n",
    "#     transforms.Normalize((0.5,), (0.5,))\n",
    "# ])\n",
    "# trainset = torchvision.datasets.MNIST(root='./data', train=True, download=True, transform=transform)\n",
    "# indices = random.sample(range(len(trainset)), 50)\n",
    "# # Create a new DataLoader with the selected indices\n",
    "# subset_trainloader = torch.utils.data.DataLoader(trainset, batch_size=1, shuffle=False, sampler=torch.utils.data.SubsetRandomSampler(indices))\n",
    "# outputs = torch.empty(0)\n",
    "# inputs = torch.empty(0)\n",
    "# with torch.no_grad():\n",
    "#     for images, labels in subset_trainloader:\n",
    "#         inputs = torch.cat((inputs, images), dim=0)\n",
    "#         intermediate_output = model.conv1(images)  # Output of the first convolutional layer\n",
    "#         # intermediate_output = model.relu1(intermediate_output)  # Apply ReLU activation\n",
    "#         # intermediate_output = model.pool1(intermediate_output)  # Apply max pooling\n",
    "#         # intermediate_output = model.conv2(intermediate_output) \n",
    "#         outputs = torch.cat((outputs, intermediate_output), dim=0)\n",
    "\n",
    "# IT = IT_calculator()\n",
    "# JE = IT.JointE(inputs, outputs)"
   ]
  },
  {
   "cell_type": "code",
   "execution_count": null,
   "metadata": {},
   "outputs": [],
   "source": [
    "# E_inputs = IT.Entropy(inputs)\n",
    "# print('E_inputs:', E_inputs)\n",
    "# E_outputs = IT.Entropy(outputs)\n",
    "# print('E_outputs:', E_outputs)"
   ]
  },
  {
   "cell_type": "code",
   "execution_count": null,
   "metadata": {},
   "outputs": [],
   "source": [
    "# IT = IT_calculator()\n",
    "# def JointE(X, Y):\n",
    "#     # print(IT.Corr(X))\n",
    "#     # print(IT.Corr(Y))\n",
    "#     # print('')\n",
    "#     _ = torch.mul(IT.Corr(X), IT.Corr(Y))\n",
    "#     # print(_)\n",
    "#     tr = torch.trace(_).item()**3\n",
    "#     # print(tr)\n",
    "#     _ = _/tr\n",
    "#     # print(_)\n",
    "#     res = IT.Entropy(_)\n",
    "#     return res\n",
    "# print(JointE(inputs, outputs))"
   ]
  }
 ],
 "metadata": {
  "kernelspec": {
   "display_name": "base",
   "language": "python",
   "name": "python3"
  },
  "language_info": {
   "codemirror_mode": {
    "name": "ipython",
    "version": 3
   },
   "file_extension": ".py",
   "mimetype": "text/x-python",
   "name": "python",
   "nbconvert_exporter": "python",
   "pygments_lexer": "ipython3",
   "version": "3.11.5"
  }
 },
 "nbformat": 4,
 "nbformat_minor": 2
}
